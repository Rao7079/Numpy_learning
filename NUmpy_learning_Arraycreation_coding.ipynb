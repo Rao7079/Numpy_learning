{
  "nbformat": 4,
  "nbformat_minor": 0,
  "metadata": {
    "colab": {
      "provenance": []
    },
    "kernelspec": {
      "name": "python3",
      "display_name": "Python 3"
    },
    "language_info": {
      "name": "python"
    }
  },
  "cells": [
    {
      "cell_type": "markdown",
      "source": [
        "creat a 1D arrray"
      ],
      "metadata": {
        "id": "deYXm-aob9hL"
      }
    },
    {
      "cell_type": "code",
      "source": [
        "import numpy as np\n",
        "arr=np.array([1,2,3])\n",
        "print(arr)"
      ],
      "metadata": {
        "colab": {
          "base_uri": "https://localhost:8080/"
        },
        "id": "Ad8ZTiQVcbTN",
        "outputId": "5b78b980-3280-4ce4-afde-6f002469ec00"
      },
      "execution_count": 3,
      "outputs": [
        {
          "output_type": "stream",
          "name": "stdout",
          "text": [
            "[1 2 3]\n"
          ]
        }
      ]
    },
    {
      "cell_type": "markdown",
      "source": [
        "creat 2D array with python list"
      ],
      "metadata": {
        "id": "VpGtQKoqcpFw"
      }
    },
    {
      "cell_type": "code",
      "source": [
        "arr=np.array([[1,2,3],[4,5,6]])\n",
        "arr"
      ],
      "metadata": {
        "colab": {
          "base_uri": "https://localhost:8080/"
        },
        "id": "3rpQxBPcctjI",
        "outputId": "eaaf313b-1c06-476b-f34a-e87b8a458e9c"
      },
      "execution_count": 5,
      "outputs": [
        {
          "output_type": "execute_result",
          "data": {
            "text/plain": [
              "array([[1, 2, 3],\n",
              "       [4, 5, 6]])"
            ]
          },
          "metadata": {},
          "execution_count": 5
        }
      ]
    },
    {
      "cell_type": "markdown",
      "source": [
        "Create a 1D array from 1 to 10"
      ],
      "metadata": {
        "id": "-VVfJCNRcdnj"
      }
    },
    {
      "cell_type": "code",
      "execution_count": 6,
      "metadata": {
        "colab": {
          "base_uri": "https://localhost:8080/"
        },
        "id": "SF13cjHhRs01",
        "outputId": "a543f4cf-00a6-4203-8e3a-9c2590c5a4c8"
      },
      "outputs": [
        {
          "output_type": "execute_result",
          "data": {
            "text/plain": [
              "array([ 1,  2,  3,  4,  5,  6,  7,  8,  9, 10])"
            ]
          },
          "metadata": {},
          "execution_count": 6
        }
      ],
      "source": [
        "import numpy as np\n",
        "arr=np.arange(1,11)\n",
        "arr"
      ]
    },
    {
      "cell_type": "markdown",
      "source": [
        "Create a 1D array from 10 to 50 with step 5"
      ],
      "metadata": {
        "id": "bHMHv0andD7t"
      }
    },
    {
      "cell_type": "code",
      "source": [
        "arr=np.arange(10,50,5)\n",
        "arr"
      ],
      "metadata": {
        "colab": {
          "base_uri": "https://localhost:8080/"
        },
        "id": "x2Sh0cm2dH-F",
        "outputId": "a6adfb1d-b1eb-46f8-e0f8-27301816fb8e"
      },
      "execution_count": 7,
      "outputs": [
        {
          "output_type": "execute_result",
          "data": {
            "text/plain": [
              "array([10, 15, 20, 25, 30, 35, 40, 45])"
            ]
          },
          "metadata": {},
          "execution_count": 7
        }
      ]
    },
    {
      "cell_type": "markdown",
      "source": [
        "Create 20 evenly spaced numbers between 5 and 10 using linspace"
      ],
      "metadata": {
        "id": "8DpNHiJwdi1m"
      }
    },
    {
      "cell_type": "code",
      "source": [
        "arr=np.linspace(5,10,20)\n",
        "arr"
      ],
      "metadata": {
        "colab": {
          "base_uri": "https://localhost:8080/"
        },
        "id": "OpZFUw_zgUnc",
        "outputId": "af4f293e-23c9-4b14-9545-17a5cfde3ef1"
      },
      "execution_count": 8,
      "outputs": [
        {
          "output_type": "execute_result",
          "data": {
            "text/plain": [
              "array([ 5.        ,  5.26315789,  5.52631579,  5.78947368,  6.05263158,\n",
              "        6.31578947,  6.57894737,  6.84210526,  7.10526316,  7.36842105,\n",
              "        7.63157895,  7.89473684,  8.15789474,  8.42105263,  8.68421053,\n",
              "        8.94736842,  9.21052632,  9.47368421,  9.73684211, 10.        ])"
            ]
          },
          "metadata": {},
          "execution_count": 8
        }
      ]
    },
    {
      "cell_type": "markdown",
      "source": [
        " Create a 3×4 matrix of all ones"
      ],
      "metadata": {
        "id": "VI5OgaPFjzfS"
      }
    },
    {
      "cell_type": "code",
      "source": [
        "arr=np.ones((3,4))\n",
        "print(arr)"
      ],
      "metadata": {
        "colab": {
          "base_uri": "https://localhost:8080/"
        },
        "id": "yBMskjYqj0Xj",
        "outputId": "d7e9134c-cbf5-48bb-a826-ca3c227f5e2c"
      },
      "execution_count": 9,
      "outputs": [
        {
          "output_type": "stream",
          "name": "stdout",
          "text": [
            "[[1. 1. 1. 1.]\n",
            " [1. 1. 1. 1.]\n",
            " [1. 1. 1. 1.]]\n"
          ]
        }
      ]
    },
    {
      "cell_type": "markdown",
      "source": [
        "Create a 5×5 identity matrix"
      ],
      "metadata": {
        "id": "-BY4B0o_mQtA"
      }
    },
    {
      "cell_type": "code",
      "source": [
        "arr=np.eye(5)\n",
        "arr"
      ],
      "metadata": {
        "colab": {
          "base_uri": "https://localhost:8080/"
        },
        "id": "w9C9VYa8mRde",
        "outputId": "9493b0af-784a-4ab7-d6ed-38ab8b6aaaeb"
      },
      "execution_count": 10,
      "outputs": [
        {
          "output_type": "execute_result",
          "data": {
            "text/plain": [
              "array([[1., 0., 0., 0., 0.],\n",
              "       [0., 1., 0., 0., 0.],\n",
              "       [0., 0., 1., 0., 0.],\n",
              "       [0., 0., 0., 1., 0.],\n",
              "       [0., 0., 0., 0., 1.]])"
            ]
          },
          "metadata": {},
          "execution_count": 10
        }
      ]
    },
    {
      "cell_type": "markdown",
      "source": [
        "Create a 2×3 array with random decimals (0 to 1)"
      ],
      "metadata": {
        "id": "GmjOZwp0oM46"
      }
    },
    {
      "cell_type": "code",
      "source": [
        "\n",
        "arr=np.random.rand(2,3)\n",
        "print(arr)"
      ],
      "metadata": {
        "colab": {
          "base_uri": "https://localhost:8080/"
        },
        "id": "fSZygO3koNcO",
        "outputId": "3c1e3993-3647-4be4-86ae-f83a63def369"
      },
      "execution_count": 45,
      "outputs": [
        {
          "output_type": "stream",
          "name": "stdout",
          "text": [
            "[[0.64914405 0.27848728 0.6762549 ]\n",
            " [0.59086282 0.02398188 0.55885409]]\n"
          ]
        }
      ]
    },
    {
      "cell_type": "markdown",
      "source": [
        " Create an array of 8 random integers between 100 and 200"
      ],
      "metadata": {
        "id": "QLH0naPVqlMM"
      }
    },
    {
      "cell_type": "code",
      "source": [
        "\n",
        "arr=np.random.randint(100,200,8)\n",
        "arr"
      ],
      "metadata": {
        "colab": {
          "base_uri": "https://localhost:8080/"
        },
        "id": "wLEGz3x7qkuP",
        "outputId": "a1083876-389c-44b5-b991-7d0c4e4ea8a4"
      },
      "execution_count": 46,
      "outputs": [
        {
          "output_type": "execute_result",
          "data": {
            "text/plain": [
              "array([169, 197, 129, 124, 162, 107, 143, 133])"
            ]
          },
          "metadata": {},
          "execution_count": 46
        }
      ]
    },
    {
      "cell_type": "markdown",
      "source": [
        "Create numbers 0–12 then reshape to 3×4"
      ],
      "metadata": {
        "id": "h1Q9at7ztDVY"
      }
    },
    {
      "cell_type": "code",
      "source": [
        "a=np.arange(0,12)\n",
        "b=a.reshape(3,4)\n",
        "b"
      ],
      "metadata": {
        "colab": {
          "base_uri": "https://localhost:8080/"
        },
        "id": "9Rqh3jEHtNZp",
        "outputId": "4839644d-ebcf-4fbc-c81a-d4464377249b"
      },
      "execution_count": 56,
      "outputs": [
        {
          "output_type": "execute_result",
          "data": {
            "text/plain": [
              "array([[ 0,  1,  2,  3],\n",
              "       [ 4,  5,  6,  7],\n",
              "       [ 8,  9, 10, 11]])"
            ]
          },
          "metadata": {},
          "execution_count": 56
        }
      ]
    },
    {
      "cell_type": "markdown",
      "source": [
        "Create 10 random integers between 1–9 and make it 2×5"
      ],
      "metadata": {
        "id": "0oI3-GpSt_Wb"
      }
    },
    {
      "cell_type": "code",
      "source": [
        "np.random.seed(9)\n",
        "a=np.random.randint(1,9,10)\n",
        "b=a.reshape(2,5)\n",
        "b"
      ],
      "metadata": {
        "colab": {
          "base_uri": "https://localhost:8080/"
        },
        "id": "5cVM3D1vuAOF",
        "outputId": "1f2a18b1-62db-4e98-b8fb-901167c433ff"
      },
      "execution_count": 75,
      "outputs": [
        {
          "output_type": "execute_result",
          "data": {
            "text/plain": [
              "array([[7, 5, 7, 6, 7],\n",
              "       [1, 4, 7, 6, 2]])"
            ]
          },
          "metadata": {},
          "execution_count": 75
        }
      ]
    },
    {
      "cell_type": "markdown",
      "source": [
        "Generate array [0–15], convert to 4×4, then extract diagonal"
      ],
      "metadata": {
        "id": "75b_hxkeud4z"
      }
    },
    {
      "cell_type": "code",
      "source": [
        "a=np.arange(16)\n",
        "b=a.reshape(4,4)\n",
        "d = np.diag(b)\n",
        "print(b)\n",
        "print(d)\n"
      ],
      "metadata": {
        "colab": {
          "base_uri": "https://localhost:8080/"
        },
        "id": "rWgQElV1uem3",
        "outputId": "812aca5e-89e3-44c8-a678-1a6eaf8995a0"
      },
      "execution_count": 73,
      "outputs": [
        {
          "output_type": "stream",
          "name": "stdout",
          "text": [
            "[[ 0  1  2  3]\n",
            " [ 4  5  6  7]\n",
            " [ 8  9 10 11]\n",
            " [12 13 14 15]]\n",
            "[ 0  5 10 15]\n"
          ]
        }
      ]
    }
  ]
}