{
  "nbformat": 4,
  "nbformat_minor": 0,
  "metadata": {
    "colab": {
      "provenance": []
    },
    "kernelspec": {
      "name": "python3",
      "display_name": "Python 3"
    },
    "language_info": {
      "name": "python"
    }
  },
  "cells": [
    {
      "cell_type": "markdown",
      "source": [
        "1.\tCreate a 1D NumPy array of 10 numbers and print the 3rd element."
      ],
      "metadata": {
        "id": "9f1VhxhnQIW6"
      }
    },
    {
      "cell_type": "code",
      "execution_count": 1,
      "metadata": {
        "colab": {
          "base_uri": "https://localhost:8080/"
        },
        "id": "Dy1QGL03PwdS",
        "outputId": "2a9b6a9b-8f00-44be-90a6-a6730895ac28"
      },
      "outputs": [
        {
          "output_type": "stream",
          "name": "stdout",
          "text": [
            "4\n"
          ]
        }
      ],
      "source": [
        "import numpy  as np\n",
        "a=np.array([1,2,3,4,5,6,7,8,9,0])\n",
        "print(a[3])"
      ]
    },
    {
      "cell_type": "markdown",
      "source": [
        "2.\tPrint the last two elements of a 1D NumPy array using negative indexing."
      ],
      "metadata": {
        "id": "1rWMpfvxQgNA"
      }
    },
    {
      "cell_type": "code",
      "source": [
        "import numpy  as np\n",
        "a=np.array([1,2,3,4,5,6,7,8,9])\n",
        "print(a[-2:])\n"
      ],
      "metadata": {
        "colab": {
          "base_uri": "https://localhost:8080/"
        },
        "id": "YX0Bc3M9Qg0G",
        "outputId": "9661a08b-99fb-4600-a021-a58495a827b1"
      },
      "execution_count": 18,
      "outputs": [
        {
          "output_type": "stream",
          "name": "stdout",
          "text": [
            "[8 9]\n"
          ]
        }
      ]
    },
    {
      "cell_type": "markdown",
      "source": [
        "3.\tCreate a 2D array (3×4) and extract the 2nd row."
      ],
      "metadata": {
        "id": "upsGOt7mUSN1"
      }
    },
    {
      "cell_type": "code",
      "source": [
        "import numpy as np\n",
        "a=np.array([[1,2,3,4],\n",
        "            [5,6,7,8],\n",
        "            [3,2,4,5]])\n",
        "print(a[1,:])"
      ],
      "metadata": {
        "colab": {
          "base_uri": "https://localhost:8080/"
        },
        "id": "-ESCheAQUTRl",
        "outputId": "941b480d-1fc4-4db9-ffbe-62dbe62eeb0a"
      },
      "execution_count": 10,
      "outputs": [
        {
          "output_type": "stream",
          "name": "stdout",
          "text": [
            "[5 6 7 8]\n"
          ]
        }
      ]
    },
    {
      "cell_type": "markdown",
      "source": [
        "4.\tFrom the same 2D array, extract the 1st and 3rd rows."
      ],
      "metadata": {
        "id": "pr0-lUf1U8tZ"
      }
    },
    {
      "cell_type": "code",
      "source": [
        "import numpy as np\n",
        "a=np.array([[1,2,3,4],\n",
        "            [5,6,7,8],\n",
        "            [3,2,4,5]])\n",
        "print(a[[0,2],:])"
      ],
      "metadata": {
        "colab": {
          "base_uri": "https://localhost:8080/"
        },
        "id": "CqBdSy74U7ir",
        "outputId": "94ac341e-80c5-48c3-a17c-c04e9e13aec1"
      },
      "execution_count": 1,
      "outputs": [
        {
          "output_type": "stream",
          "name": "stdout",
          "text": [
            "[[1 2 3 4]\n",
            " [3 2 4 5]]\n"
          ]
        }
      ]
    },
    {
      "cell_type": "markdown",
      "source": [
        "5.\tPrint the elements from index 2 to 7 in a 1D array."
      ],
      "metadata": {
        "id": "MoIsA0DQ558A"
      }
    },
    {
      "cell_type": "code",
      "source": [
        "a=np.array([1,2,3,2,4,2,6,8,6,2,9,7])\n",
        "print(a[2:8])"
      ],
      "metadata": {
        "colab": {
          "base_uri": "https://localhost:8080/"
        },
        "id": "0WMkD4ng56jA",
        "outputId": "be7e4c6f-8367-4840-a44f-98d9000da9cb"
      },
      "execution_count": 4,
      "outputs": [
        {
          "output_type": "stream",
          "name": "stdout",
          "text": [
            "[3 2 4 2 6 8]\n"
          ]
        }
      ]
    },
    {
      "cell_type": "markdown",
      "source": [
        "6.\tGet every second element from a 1D array using slicing."
      ],
      "metadata": {
        "id": "ssTUDrWM6qpG"
      }
    },
    {
      "cell_type": "code",
      "source": [
        "a=np.array([1,2,3,2,4,2,6,8,6,2,9,7])\n",
        "print(a[::2])"
      ],
      "metadata": {
        "colab": {
          "base_uri": "https://localhost:8080/"
        },
        "id": "G-_yYO5g6p-w",
        "outputId": "912f9023-a95b-4ed7-a3d7-90ff10823a74"
      },
      "execution_count": 7,
      "outputs": [
        {
          "output_type": "stream",
          "name": "stdout",
          "text": [
            "[1 3 4 6 6 9]\n"
          ]
        }
      ]
    },
    {
      "cell_type": "markdown",
      "source": [
        "7.\tReverse a 1D array using slicing."
      ],
      "metadata": {
        "id": "4Ecrk3na67QP"
      }
    },
    {
      "cell_type": "code",
      "source": [
        "a=np.array([1,2,3,4,5])\n",
        "print(a[::-1])"
      ],
      "metadata": {
        "colab": {
          "base_uri": "https://localhost:8080/"
        },
        "id": "Jvb2SWdT668-",
        "outputId": "158ac3e4-b47a-4d87-b471-9fda1d72f495"
      },
      "execution_count": 15,
      "outputs": [
        {
          "output_type": "stream",
          "name": "stdout",
          "text": [
            "[5 4 3 2 1]\n"
          ]
        }
      ]
    },
    {
      "cell_type": "markdown",
      "source": [
        "8.\tFrom a 2D array, extract rows 1 to 2 and columns 2 to 4."
      ],
      "metadata": {
        "id": "6crUrjOJA1BC"
      }
    },
    {
      "cell_type": "code",
      "source": [
        "import numpy as np\n",
        "a = np.array([[10, 20, 30, 40],\n",
        "              [50, 60, 70, 80],\n",
        "              [90, 100, 110, 120]])\n",
        "print(a[1:3,2:4])\n"
      ],
      "metadata": {
        "colab": {
          "base_uri": "https://localhost:8080/"
        },
        "id": "FenxVHKNA1xL",
        "outputId": "10bd09ec-39bc-4b00-af2b-49c267710184"
      },
      "execution_count": 17,
      "outputs": [
        {
          "output_type": "stream",
          "name": "stdout",
          "text": [
            "[[ 70  80]\n",
            " [110 120]]\n"
          ]
        }
      ]
    },
    {
      "cell_type": "markdown",
      "source": [
        "9.\tPrint all elements of a NumPy array that are greater than 50."
      ],
      "metadata": {
        "id": "rPeUIyTnC0FN"
      }
    },
    {
      "cell_type": "code",
      "source": [
        "a=np.array([23,56,87,32])\n",
        "print(a[a>50])"
      ],
      "metadata": {
        "colab": {
          "base_uri": "https://localhost:8080/"
        },
        "id": "KUfSbBy9C09V",
        "outputId": "8639f8db-0eac-49f0-97c6-7995424d2dc7"
      },
      "execution_count": 18,
      "outputs": [
        {
          "output_type": "stream",
          "name": "stdout",
          "text": [
            "[56 87]\n"
          ]
        }
      ]
    }
  ]
}