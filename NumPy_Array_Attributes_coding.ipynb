{
  "nbformat": 4,
  "nbformat_minor": 0,
  "metadata": {
    "colab": {
      "provenance": []
    },
    "kernelspec": {
      "name": "python3",
      "display_name": "Python 3"
    },
    "language_info": {
      "name": "python"
    }
  },
  "cells": [
    {
      "cell_type": "markdown",
      "source": [
        "Create a NumPy array of shape (3,4). Print .shape, .ndim, .size, .dtype, .itemsize."
      ],
      "metadata": {
        "id": "f_HI1BtWkFHk"
      }
    },
    {
      "cell_type": "code",
      "source": [
        "import numpy as np\n",
        "a=np.array([[1,2,3,4],\n",
        "             [5,6,7,8],\n",
        "             [9,1,2,3]])\n",
        "a"
      ],
      "metadata": {
        "colab": {
          "base_uri": "https://localhost:8080/"
        },
        "id": "CkyTe-vYkKA0",
        "outputId": "f98c3fc8-865a-4e71-d0d4-eba5ded35e98"
      },
      "execution_count": 5,
      "outputs": [
        {
          "output_type": "execute_result",
          "data": {
            "text/plain": [
              "array([[1, 2, 3, 4],\n",
              "       [5, 6, 7, 8],\n",
              "       [9, 1, 2, 3]])"
            ]
          },
          "metadata": {},
          "execution_count": 5
        }
      ]
    },
    {
      "cell_type": "code",
      "execution_count": 17,
      "metadata": {
        "colab": {
          "base_uri": "https://localhost:8080/"
        },
        "id": "kK8AQT0VkDB1",
        "outputId": "a33c4619-889a-40d8-eee0-3d32e69a105a"
      },
      "outputs": [
        {
          "output_type": "stream",
          "name": "stdout",
          "text": [
            "shape\n",
            " (3, 4)\n",
            "ndim\n",
            " 2\n",
            "size\n",
            " 12\n",
            "dtype\n",
            " int64\n",
            "itemsize 8\n"
          ]
        }
      ],
      "source": [
        "print(\"shape\\n\",a.shape)\n",
        "print(\"ndim\\n\",a.ndim)\n",
        "print(\"size\\n\",a.size)\n",
        "print(\"dtype\\n\",a.dtype)\n",
        "print(\"itemsize\",a.itemsize)"
      ]
    },
    {
      "cell_type": "markdown",
      "source": [
        "Create a 1D array of 10 numbers using np.arange() and check its .shape and .ndim"
      ],
      "metadata": {
        "id": "C2h0YiIBmV3C"
      }
    },
    {
      "cell_type": "code",
      "source": [
        "a=np.arange(11)\n",
        "a\n",
        "print(\"shape\",a.shape)\n",
        "print(\"ndim\",a.ndim)"
      ],
      "metadata": {
        "colab": {
          "base_uri": "https://localhost:8080/"
        },
        "id": "cyZZpa8rk2fe",
        "outputId": "1157d93f-cff4-4215-9a3c-2c00f6f29481"
      },
      "execution_count": 20,
      "outputs": [
        {
          "output_type": "stream",
          "name": "stdout",
          "text": [
            "shape (11,)\n",
            "ndim 1\n"
          ]
        }
      ]
    },
    {
      "cell_type": "markdown",
      "source": [
        " Create a 3D array of 2×3×4 and print its .shape, .ndim, .size."
      ],
      "metadata": {
        "id": "P7X3paLam-se"
      }
    },
    {
      "cell_type": "code",
      "source": [
        "import numpy  as np\n",
        "a=np.array([\n",
        "           [[1,2,3,5],\n",
        "            [4,5,6,5],\n",
        "            [7,8,9,5]],\n",
        "\n",
        "           [[10,11,12,5],\n",
        "            [13,14,15,5],\n",
        "            [16,17,18,5]]])\n",
        "print(\"array\",a)\n",
        "print(\"shape:\",a.shape)\n",
        "print(\"ndim:\",a.ndim)\n",
        "print(\"size:\",a.size)"
      ],
      "metadata": {
        "colab": {
          "base_uri": "https://localhost:8080/"
        },
        "id": "bze8KwiCm_YL",
        "outputId": "bcc9117c-fe51-415f-a217-27863c1e1506"
      },
      "execution_count": 27,
      "outputs": [
        {
          "output_type": "stream",
          "name": "stdout",
          "text": [
            "array [[[ 1  2  3  5]\n",
            "  [ 4  5  6  5]\n",
            "  [ 7  8  9  5]]\n",
            "\n",
            " [[10 11 12  5]\n",
            "  [13 14 15  5]\n",
            "  [16 17 18  5]]]\n",
            "shape: (2, 3, 4)\n",
            "ndim: 3\n",
            "size: 24\n"
          ]
        }
      ]
    },
    {
      "cell_type": "markdown",
      "source": [
        "Create an array of float numbers and display .dtype and .itemsize."
      ],
      "metadata": {
        "id": "GyNUNyK3oepm"
      }
    },
    {
      "cell_type": "code",
      "source": [
        "a=np.array([1.2,3.4,5.6])\n",
        "a\n",
        "print(a.dtype)\n",
        "print(a.itemsize)"
      ],
      "metadata": {
        "colab": {
          "base_uri": "https://localhost:8080/"
        },
        "id": "4ePCi7wwofZu",
        "outputId": "e34eb913-aed5-41c6-fcd0-fc5353ca9ecc"
      },
      "execution_count": 30,
      "outputs": [
        {
          "output_type": "stream",
          "name": "stdout",
          "text": [
            "float64\n",
            "8\n"
          ]
        }
      ]
    }
  ]
}